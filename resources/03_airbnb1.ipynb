{
 "cells": [
  {
   "cell_type": "markdown",
   "id": "1f6cf8e1-abed-4627-a822-9328f2c77d88",
   "metadata": {},
   "source": [
    "# Analyzing Airbnb Rentals with Linear Regression\n",
    "\n",
    "**Complete by: Tuesday 25 Feb. at class time**  \n",
    "Data: <https://jrladd.com/CIS241/data/nola_listings_2021.csv.gz>\n",
    "\n",
    "Airbnb was founded in 2008 to allow people to rent apartments, houses, and spaces directly to one another. The company provides an alternative to traditional hotels and rentals. Recently there's been a lot of public discussion about the effects Airbnb rentals have on neighborhoods: as Airbnb gets more popular, more and more homes and apartments that were previously used as private residences are now becoming full-time rentals. The data activists and journalists at [Inside Airbnb](http://insideairbnb.com/) are using public information about rentals to better understand these phenomena.\n",
    "\n",
    "This week, we'll use a sample of [Inside Airbnb's data](http://insideairbnb.com/get-the-data) to investigate the prices of Airbnb rentals in New Orleans, LA during the year 2021. New Orleans is a city with a lot of tourism that relies on hotels and rentals to house its many visitors. In this first workshop, we'll use linear regression to explore some variables that may affect the price of rentals.\n",
    "\n",
    "*n.b. This assignment is loosely adapted from the Airbnb Lab assignment at Denison University.*\n",
    "\n",
    "## Ethical Considerations\n",
    "\n",
    "How much should a temporary rental apartment cost? How many rentals should be available? If a city is a tourist destination, should more of its housing be devoted to temporary hotel-like rental space? Since the launch of Airbnb these questions have only gotten more pressing. Imagine you live in a popular neighborhood in a city that's a tourist destination. At first, you and your neighbors can make extra money by putting your homes and apartments up for rent on Airbnb when you're not using them. But over time, larger companies and individuals who *don't live in your neighborhood* start buying up homes solely to rent them on Airbnb full time. What might this do to your neighborhood?\n",
    "\n",
    "The price and density of Airbnbs has effects not only on individuals who live in those neighborhoods and cities, but also on city officials, the real estate industry, and tourists themselves who may not be able to afford regular hotels and accommodations. How do you balance all of those competing concerns when pricing Airbnbs?\n",
    "\n",
    "## Instructions\n",
    "\n",
    "This week you'll **accurately predict the price of Airbnbs in New Orleans using multivariate linear regression**.\n",
    "\n",
    "As we discussed in class, linear models like these require lots of different steps and some flexible thinking about the data. You'll need to look through your notes from the past few weeks and think about what steps are best to include here. The multivariate regression examples we've already worked on (the `cars` dataset and the Seattle housing dataset) should be especially helpful to you.\n",
    "\n",
    "You may need to try a few different models with some different sets of variables before you get one you feel confident in. You will also need to use multiple kinds of visualization for exploration, analysis, and validation.\n",
    "\n",
    "Your report should have the following sections:\n",
    "\n",
    "1) **Getting started and Data Wrangling**: These sections are already provided for you. Follow the steps below.\n",
    "2) **Exploratory Data Analysis and Selecting Predictors**: Prepare for the model by checking for multicollinearity. Are there other visualizations or explorations you should do before you run your model? If you changed the variables you selected based on this, why did you do so? What do you need to know in order to build your model? I'm looking for at least 3 visualizations in this section, and probably additional summary statistics as well.\n",
    "3) **Modeling and Assessment**: Run your multivariate regression model, handling any missing data and/or categorical variables. Assess it with the standard metrics we used in class. How did your model perform? You may need to try a few models before finding one that performs well. Make sure you fully interpret the coefficients and any accuracy scores.\n",
    "4) **Validation**: Once you find a model that performs well, run the standard validation steps. Is your model valid? Do you feel confident using it to predict the price of Airbnbs?\n",
    "5) **Conclusion**: Write a paragraph explaining your findings and pointing out any takeaways from your modeling. What did you learn about the Airbnb data? What are some possible next steps?\n",
    "\n",
    "The [*How To Explain in CIS 241*](https://jrladd.com/CIS241/how-to-explain.html) document has a lot of pointers about how to approach this report!\n",
    "\n",
    "This should be a polished and clearly-formatted report. Remember that in all of these steps **your interpretations are just as important as your code**. You should be taking time to interpret at each stage of your report, and make sure you are interpreting things *completely, accurately, and in terms of the data*.\n",
    "\n",
    "## Getting Started\n",
    "\n",
    "**Begin by importing libraries as normal. Remember that you'll need the usual libraries as well as the `sklearn` classes and functions that we discussed in class.**"
   ]
  },
  {
   "cell_type": "code",
   "execution_count": null,
   "id": "93e97e15-3094-404c-af17-cb1cff3cb00a",
   "metadata": {},
   "outputs": [],
   "source": []
  },
  {
   "cell_type": "markdown",
   "id": "f2ae34f5-59f3-4e60-9975-9b18ff2a6e2f",
   "metadata": {},
   "source": [
    "Now we can read in our data. This is the largest data set we've worked with so far, and the URL above end with `.csv.gz`: it's a zip archive which compresses the file to a more managable size. A cool feature of pandas is that you don't need to unzip this file to read it with the `read_csv()` function. **You can read the URL as normal below**:"
   ]
  },
  {
   "cell_type": "code",
   "execution_count": null,
   "id": "556675a8-38f3-4bd7-af22-e87f111b70d0",
   "metadata": {},
   "outputs": [],
   "source": []
  },
  {
   "cell_type": "markdown",
   "id": "d549b11c-2f11-414a-863a-ed100e827c9b",
   "metadata": {},
   "source": [
    "## Data Wrangling\n",
    "\n",
    "There are a lot of columns in this data. More than can be viewed in the table view above. **Let's use the `.info()` method on our new dataframe to see all the column names and their data types:**"
   ]
  },
  {
   "cell_type": "code",
   "execution_count": null,
   "id": "5095aa60-81ab-40ea-8e6c-2530db241bf4",
   "metadata": {},
   "outputs": [],
   "source": []
  },
  {
   "cell_type": "markdown",
   "id": "e0233aa2-3c03-4b83-9435-e06f36530c4a",
   "metadata": {},
   "source": [
    "Right away this is very helpful! Now we have a list of all column names and we can see their type. You can compare this to [Inside Airbnb's full documentation](https://docs.google.com/spreadsheets/d/1iWCNJcSutYqpULSQHlNyGInUvHg2BoUGoNRIGa6Szc4/edit#gid=1322284596) so that you understand what each column is describing.\n",
    "\n",
    "Eagle-eyed readers might have spotted an issue with the column we care most about: the `price` of the rentals. **Take another look at the `price` column, and explain why you won't be able to calculate the mean of `price` right now:**"
   ]
  },
  {
   "cell_type": "markdown",
   "id": "75e2a9fb-7a37-4768-a2d5-f6789542d233",
   "metadata": {},
   "source": [
    "[Your answer here.]"
   ]
  },
  {
   "cell_type": "markdown",
   "id": "b47ca5fe-8376-425f-b4a6-e17276468b79",
   "metadata": {},
   "source": [
    "So, we need to get rid of the problem characters first. This will involve dealing with strings, and we covered this previously in the [Pandas Guide](https://jrladd.com/CIS241/guides/pandas.html#text-data-and-strings).\n",
    "\n",
    "We need to get rid of certain characters, and the right tool for this is the `.str.replace()` method. Replace will remove any character we like and insert a new character in its place, or it can simply remove a character and replace it with nothing.\n",
    "\n",
    "The replace method also accepts [*regular expressions*](https://en.wikipedia.org/wiki/Regular_expression), a special kind of search pattern that lets us select characters in advanced ways. For instance, in this case it will let us select multiple characters at once, so that we don't need to write three separate `.str.replace()` methods for the three characters we want to remove. For now we're not doing a deep dive into regular expressions, but they'll come up again later in the semester.\n",
    "\n",
    "The regular expression (or regex) we'll use in our replace function is `[\\$\\.\\,]`. The brackets mean that we want to search for any of these three possibilites, and the backslashes mean to search for these literal characters (so that they don't accidentally perform a function instead). We can ask the `.str.replace()` method to search for these characters and return nothing in their place. \n",
    "\n",
    "Using the [Pandas Guide](https://jrladd.com/CIS241/guides/pandas.html#text-data-and-strings) construct a *replace* function below that replaces the regular expression with nothing and *assigns* the data to the `price` column."
   ]
  },
  {
   "cell_type": "code",
   "execution_count": null,
   "id": "750583cb-bedb-4e4b-ad06-b118c8fed46b",
   "metadata": {},
   "outputs": [],
   "source": []
  },
  {
   "cell_type": "markdown",
   "id": "47a23a56-8e72-4977-b2b3-feaede0bc065",
   "metadata": {},
   "source": [
    "Voila! No more troublesome characters. But this column is still a string, and now it has too many zeroes. Let's get the value in dollars by converting this to a `float` and then dividing by 100. We can do taht next, and assign the whole thing into the `price` column. Write this code in the cell below:"
   ]
  },
  {
   "cell_type": "code",
   "execution_count": null,
   "id": "3f2c6c3e-236c-41b6-b8e3-fc28fa34fbb6",
   "metadata": {},
   "outputs": [],
   "source": []
  },
  {
   "cell_type": "markdown",
   "id": "3525ace0-5a3b-4ee1-89d5-e21ef6ed988a",
   "metadata": {},
   "source": [
    "Now let's calculate the mean rental price again:"
   ]
  },
  {
   "cell_type": "code",
   "execution_count": null,
   "id": "e3734ed2-9a75-45c8-97bf-8235386370ef",
   "metadata": {},
   "outputs": [],
   "source": []
  },
  {
   "cell_type": "markdown",
   "id": "5c53cd5d-c7a2-4f4e-b2e1-3b2ea378b8f8",
   "metadata": {
    "tags": []
   },
   "source": [
    "This kind of thing is *very common* in data science. Even thoughtfully-prepared data can come to us in a form we wouldn't expect, and thankfully Pandas gives us the tools to change things up. Remember, if there are any hiccups in this code, it could cause problems in your later modeling steps, so make sure it's correct before moving forward.\n",
    "\n",
    "## Now, complete the rest of the steps listed above. Remove this line of text and keep the report organized and readable."
   ]
  },
  {
   "cell_type": "markdown",
   "id": "1626c7ee",
   "metadata": {},
   "source": []
  }
 ],
 "metadata": {
  "kernelspec": {
   "display_name": "Python 3 (ipykernel)",
   "language": "python",
   "name": "python3"
  },
  "language_info": {
   "codemirror_mode": {
    "name": "ipython",
    "version": 3
   },
   "file_extension": ".py",
   "mimetype": "text/x-python",
   "name": "python",
   "nbconvert_exporter": "python",
   "pygments_lexer": "ipython3",
   "version": "3.9.6"
  }
 },
 "nbformat": 4,
 "nbformat_minor": 5
}
