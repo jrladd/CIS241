{
 "cells": [
  {
   "cell_type": "markdown",
   "id": "c453aa27-2411-4b8a-a8ae-9ace5766e965",
   "metadata": {},
   "source": [
    "# The Best vs. The Rest\n",
    "## What *really* separates elite baseball teams?\n",
    "\n",
    "**Complete by: Tuesday 24 Sept. at 10:55am**\n",
    "\n",
    "## Introduction\n",
    "\n",
    "Sports analytics is one of the most popular and discussed forms of data analysis. No matter what sport interests you (gymnastics, football, skiing, etc., etc.), there is surely data out there, as well as lots of people looking for ways to analyze and better understand the sport. Sometimes, the purpose of the data is to win more games! This, after all, is the plot of the movie *Moneyball*, in which the Oakland A's use data analysis to recruit players and increase their chances of winning the pennant.\n",
    "\n",
    "For this week's sports data workshop, we'll work with a data set from the 2023 MLB season. **Sabermetrics**, the term for sports analytics with baseball data, is one of the oldest forms of sports data science. The box score was invented in 1858! Since the 1970s, analysts have examined the game of baseball from almost every conceivable angle, and this week we'll join the fray.\n",
    "\n",
    "In 2023 a few teams performed spectactularly well: the Los Angeles Dodgers, the Atlanta Braves, and the controversial World Series-winning Texas Rangers. The Arizona Diamondbacks also had a surprisingly good run—they were National League Champions (i.e. second place in MLB) despite not scoring as many runs as other elite teams. Our question this week will be: is Arizona really that different from these other teams, in terms of scoring potential? Was their success the result of good play, random chance, or both?\n",
    "\n",
    "## Contextual and Ethical Considerations\n",
    "\n",
    "It's sometimes easy to imagine sports data as \"neutral,\" but just like any kind of data there are potential ethics concerns. As always we should consider the stakeholders of any data set. Who stands to gain by a data set being handled well? Who could be hurt if that same data is handled poorly? In the case of the baseball data, we should consider that professional sports are a big business, which includes the professional livelihoods of not only players but lots of support staff. Representing a sport accurately can help the people who make their livings in that sport. Likewise, sports fans are deeply committed to their favorite players and teams, and accurate data collection and management can help those fans to better interact with the sport. Misrepresenting sports data could lead to certain players or teams being underfunded, or it could even lead to rule changes that might endanger athletes' health or overall ability to perform. Good sports analysis should always take the stakeholders into account and consider the ethical implications of any analysis.\n",
    "\n",
    "The data we will use comes from [baseball-reference.com](https://baseball-reference.com), a popular baseball statistics website. The site isn't *quite* equipped with the data we want, which is runs per player per team. The data for players who played for multiple teams in a single season is automatically aggregated. This is great for some purposes, but bad for ours! We'll need to do some data wrangling to remedy this.\n",
    "\n",
    "**To begin, import the libraries you will need below:**"
   ]
  },
  {
   "cell_type": "code",
   "execution_count": null,
   "id": "c1a5524c-91fb-4a37-acd1-b9cdae00fa12",
   "metadata": {},
   "outputs": [],
   "source": []
  },
  {
   "cell_type": "markdown",
   "id": "eba4ccc9-2d85-447a-895a-cc2d9fb7bc50",
   "metadata": {},
   "source": [
    "**Now let's get some data. Go to the Baseball Reference page for [2023 Standard Batting](https://www.baseball-reference.com/leagues/majors/2023-standard-batting.shtml) and export the Player Standard Batting table. Save the data as a CSV, load it into JupyterHub, and read it in this notebook.** A lot of data science tasks require you to search for and download data yourself. We will go over how to do this together in class—it will be different from linking to a CSV like we've done in the past."
   ]
  },
  {
   "cell_type": "code",
   "execution_count": null,
   "id": "c6e6a91e-6b0d-419a-ba4f-77b0b682aa66",
   "metadata": {},
   "outputs": [],
   "source": []
  },
  {
   "cell_type": "markdown",
   "id": "ef6420f1-2746-4741-b211-c6fa610e816e",
   "metadata": {},
   "source": [
    "What do you notice about this data set? How many rows does it have? What do the rows represent? What do some of the columns represent (you don't need to write them all, but give us a sense)? How might this affect our ability to compare one player to another? **Write your answers below:**"
   ]
  },
  {
   "cell_type": "markdown",
   "id": "32eec1de-83a9-4c0d-9b0d-57bd2544281e",
   "metadata": {},
   "source": [
    "[Your answers here.]"
   ]
  },
  {
   "cell_type": "markdown",
   "id": "d7ff7375-fdcc-4f57-b8a9-1a20070cbf95",
   "metadata": {},
   "source": [
    "## Data Wrangling\n",
    "\n",
    "Before we can begin, there are a few ways we should wrangle our data, like I mentioned above. This data includes a lot of players that never scored a single run, most of them pitchers who traditionally aren't strong batters. First, **you will need to filter out all of the players who scored 0 runs**.\n",
    "\n",
    "You also need to account for those players who played on more than one team in 2023. Baseball Reference marks these players as \"2TM\" and \"3TM\" in the `Team` column. **You will also need to filter out any of these players.** Perform these two wrangling steps in the cell below:"
   ]
  },
  {
   "cell_type": "code",
   "execution_count": null,
   "id": "cc03c2c9-d5a4-4dac-b563-42f2b194ea52",
   "metadata": {},
   "outputs": [],
   "source": []
  },
  {
   "cell_type": "markdown",
   "id": "4075bd27-61ab-497a-a733-221118cc83e7",
   "metadata": {},
   "source": [
    "Before we move on, it would be useful to see the total runs scored by each team in 2023. **Create a summary table showing the sum of runs for every team. Sort this new table from most to least runs.**"
   ]
  },
  {
   "cell_type": "code",
   "execution_count": null,
   "id": "98343af8-1846-490c-85e3-290eed43e1dc",
   "metadata": {},
   "outputs": [],
   "source": []
  },
  {
   "cell_type": "markdown",
   "id": "b4f84e01-9ec3-453f-abc5-d6ac011fa78b",
   "metadata": {},
   "source": [
    "We mentioned we were interested in the best teams from 2023. Look at the four teams that were mentioned in this notebook's introduction. Where do they fall in the list? What's the difference between Arizona and the rest of these teams? **Write your answers below:**"
   ]
  },
  {
   "cell_type": "markdown",
   "id": "89b1bf8e-09bc-4d7a-801f-0fd19dddbc66",
   "metadata": {},
   "source": [
    "[Your answers here.]"
   ]
  },
  {
   "cell_type": "markdown",
   "id": "9518c772-3ce8-4f27-bc38-9ede7c85ea13",
   "metadata": {},
   "source": [
    "## Exploring the Data\n",
    "\n",
    "Now that we've wrangled our data, we can start exploring it. In this workshop, rather than looking at total runs, we'll consider the average number of runs scored by players on each team. Begin by finding out how number of runs scored varies based on the team. **Create a boxplot that expresses this:** *(n.b. This graph may be impossible to read in the usual orientation. To make it more readable, try putting the categorical variable on the y-axis and the numerical variable on the x-axis. You may need to do this with later plots as well.*)"
   ]
  },
  {
   "cell_type": "code",
   "execution_count": null,
   "id": "d6705998-6dda-481b-9d51-406e62a188a6",
   "metadata": {},
   "outputs": [],
   "source": []
  },
  {
   "cell_type": "markdown",
   "id": "b0faead6-0339-4658-99c5-d746525da54e",
   "metadata": {},
   "source": [
    "Interpret this graph below in the usual way. What is the difference between Arizona and Atlanta specifically? Is there a way you could make the difference between these two easier to spot? **Write your answer below:**"
   ]
  },
  {
   "cell_type": "markdown",
   "id": "e9cd9611-cf0a-426b-8d9f-49d0ea7ae4ba",
   "metadata": {},
   "source": [
    "[Your answers here.]"
   ]
  },
  {
   "cell_type": "markdown",
   "id": "d3378c5e-8f42-4905-a2b9-f6b7dc68ba85",
   "metadata": {},
   "source": [
    "In the hypothesis tests that we've been working on, we typically care more about the *mean* then we do about the *median*. The boxplot above shows us the median seconds before the next point. **Now make a bar plot showing the mean for each team instead. To that plot, add error bars showing the confidence interval for each calculated mean. (To do this, you'll need to look at the Altair documentation for [error bars](https://altair-viz.github.io/user_guide/marks/errorbar.html#using-error-bars-to-visualize-aggregated-data) and use the *layering* technique we learned about in class.) Below, interpret the plot fully and be sure to explain what the error bars represent.**"
   ]
  },
  {
   "cell_type": "code",
   "execution_count": null,
   "id": "1fd449ae-77d3-4cd8-aa85-ecd50f09dada",
   "metadata": {},
   "outputs": [],
   "source": []
  },
  {
   "cell_type": "markdown",
   "id": "c43a3d1e-7659-4e52-ad73-2fcb38abf0b9",
   "metadata": {},
   "source": [
    "[Your interpretation here.]"
   ]
  },
  {
   "cell_type": "markdown",
   "id": "bd6a6432-7a85-46c7-96fd-4a2eea51c040",
   "metadata": {},
   "source": [
    "The plot above still makes it hard to understand the difference between Arizona and Atlanta. **Filter the data set to include only these two teams. Give this dataframe a new name so you can keep track. Display the dataframe when you're done.**"
   ]
  },
  {
   "cell_type": "code",
   "execution_count": null,
   "id": "95384022-523d-4fcf-8c4f-e06cc0058e66",
   "metadata": {},
   "outputs": [],
   "source": []
  },
  {
   "cell_type": "markdown",
   "id": "1a25fd05-999f-4f7c-9c97-6d66bf341355",
   "metadata": {},
   "source": [
    "**Now make the bar plot (with error bars) again with the new dataframe, and interpret it again. Which team appears to score more runs per player, on average? Are you confident in your interpretation, based on what the graph tells you?**"
   ]
  },
  {
   "cell_type": "code",
   "execution_count": null,
   "id": "5f234ebe-8749-44f3-8eab-68957dce15e6",
   "metadata": {},
   "outputs": [],
   "source": []
  },
  {
   "cell_type": "markdown",
   "id": "a22adbeb-5643-4f36-81fc-2c7a05594254",
   "metadata": {},
   "source": [
    "[Your interpretation here.]"
   ]
  },
  {
   "cell_type": "markdown",
   "id": "b15c3ff5-1564-4f27-b361-de91ca32a3fb",
   "metadata": {},
   "source": [
    "Finally, if we were doing a traditional t-test, we would want to make sure that both the Atlanta sample and the Arizona sample had a roughly equal number of values. **Using the `count()` for the Y-encoding, create a bar plot showing the number of players for Atlanta and Arizona. Which team do we have more data for? Would we be able to use a t-test on this data? Why or why not?**"
   ]
  },
  {
   "cell_type": "code",
   "execution_count": null,
   "id": "ce629c90-2499-4926-ac39-f5263c77edaa",
   "metadata": {},
   "outputs": [],
   "source": []
  },
  {
   "cell_type": "markdown",
   "id": "32d305b1-48db-47ba-83c7-6909a23c6c2c",
   "metadata": {},
   "source": [
    "[Your interpretation here.]"
   ]
  },
  {
   "cell_type": "markdown",
   "id": "700eb20e-c108-4014-80b8-98099e3a95f3",
   "metadata": {},
   "source": [
    "## Running a Hypothesis Test\n",
    "\n",
    "Let's create a permutation-based hypothesis test to see whether the difference between Atlanta and Arizona in our data is statistically significant. This is another way of asking: are the Braves really that much better than the Diamondbacks in terms of runs, or would they be roughly equal if they could have played many more games? **What would be our null hypothesis? What would be our alternative hypothesis? Write your answers below:**"
   ]
  },
  {
   "cell_type": "markdown",
   "id": "b131194b-e5c8-46ba-9ef6-89645f6c604e",
   "metadata": {},
   "source": [
    "[Your answers here.]"
   ]
  },
  {
   "cell_type": "markdown",
   "id": "e4ac85c7-dd74-49b7-b35d-d213f2820980",
   "metadata": {},
   "source": [
    "**Begin by calculating the observed difference in means between Atlanta and Arizona. Call this variable `observed_difference` and display it.**"
   ]
  },
  {
   "cell_type": "code",
   "execution_count": null,
   "id": "0fd72a4b-fde9-410c-a30d-20a75729266c",
   "metadata": {},
   "outputs": [],
   "source": []
  },
  {
   "cell_type": "markdown",
   "id": "0dfe1149-d538-42a7-8990-afb339210ed2",
   "metadata": {},
   "source": [
    "**Now let's get our permutation function.** (It's okay to copy this directly from the slide.) **Below, go through the function line-by-line, explaining what each line does:**"
   ]
  },
  {
   "cell_type": "code",
   "execution_count": null,
   "id": "9bc18c14-9493-47c6-8501-e3634205cce0",
   "metadata": {},
   "outputs": [],
   "source": []
  },
  {
   "cell_type": "markdown",
   "id": "c3742c39-6ecb-43d0-9d73-80ebb2e8da88",
   "metadata": {},
   "source": [
    "[Your answer here.]"
   ]
  },
  {
   "cell_type": "markdown",
   "id": "9c53bc52-90c3-4152-8d40-7f9b36bd6bac",
   "metadata": {},
   "source": [
    "Using the `simulate_two_groups()` function, **write a loop that runs 10,000 permutations of the difference between Atlanta and Arizona. Call this variable `permutations`.**"
   ]
  },
  {
   "cell_type": "code",
   "execution_count": null,
   "id": "7039d5bf-ae3a-44c4-a3bc-039d0b376ef4",
   "metadata": {},
   "outputs": [],
   "source": []
  },
  {
   "cell_type": "markdown",
   "id": "5adf1bfe-ba72-4875-bbc0-53718bea7133",
   "metadata": {},
   "source": [
    "Now you're ready to view some results! **Make a histogram showing the permuation distribution, and plot the observed difference in means as a red dotted line. Below, interpret the plot fully. Does it seem like the observed difference in means is statistically significant based on this plot?** (Remember: you can refer to the [How to Explain document](https://jrladd.com/CIS241/resources/how-to-explain) on our course website and Sakai for guidance on how to interpret output *fully and accurately*.)"
   ]
  },
  {
   "cell_type": "code",
   "execution_count": null,
   "id": "5f3df07c-6ee0-470d-816e-11360b545bc0",
   "metadata": {},
   "outputs": [],
   "source": []
  },
  {
   "cell_type": "markdown",
   "id": "af7e6a49-7d86-4897-9fd6-c12f46d7652e",
   "metadata": {},
   "source": [
    "[Your interpretation here.]"
   ]
  },
  {
   "cell_type": "markdown",
   "id": "76bd1cd3-f666-4af0-9ecc-b2c200768bb1",
   "metadata": {},
   "source": [
    "Last but not least, **calculate the p-value for your permutation test. Interpret the p-value fully, making note of *both* statistical and practical significant and relating your findings to what you saw in the previous plot.**"
   ]
  },
  {
   "cell_type": "code",
   "execution_count": null,
   "id": "49db4640-01ed-40ec-a349-2e580c8b43c9",
   "metadata": {},
   "outputs": [],
   "source": []
  },
  {
   "cell_type": "markdown",
   "id": "26f23fce-329f-44c0-8b19-394d12801ebe",
   "metadata": {},
   "source": [
    "[Your interpretation here.]"
   ]
  },
  {
   "cell_type": "markdown",
   "id": "c759d9c4-133e-4d53-a186-d9f0eafd3d0e",
   "metadata": {},
   "source": [
    "## Conclusion\n",
    "\n",
    "**Write a brief conclusion summarizing what you found out from the permutation test. Based on the p-value and the typical alpha of 0.05, do you believe there is a statistically significant difference in mean runs between Arizona and Atlanta? Do you think the difference in means is *practically significant*? How does this change your impressions of how a team might succeed in baseball? Based on other features of the data, especially sample size, do you believe you can trust the results of the permutation test? Are there any next steps you might recommend for this analysis?**"
   ]
  },
  {
   "cell_type": "markdown",
   "id": "15c64ef8-e55d-4e8c-9ba8-6f6a4e1ef4da",
   "metadata": {},
   "source": [
    "[Your conclusion here.]"
   ]
  }
 ],
 "metadata": {
  "kernelspec": {
   "display_name": "Python 3 (ipykernel)",
   "language": "python",
   "name": "python3"
  },
  "language_info": {
   "codemirror_mode": {
    "name": "ipython",
    "version": 3
   },
   "file_extension": ".py",
   "mimetype": "text/x-python",
   "name": "python",
   "nbconvert_exporter": "python",
   "pygments_lexer": "ipython3",
   "version": "3.9.6"
  }
 },
 "nbformat": 4,
 "nbformat_minor": 5
}
