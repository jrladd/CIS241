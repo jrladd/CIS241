{
 "cells": [
  {
   "cell_type": "markdown",
   "id": "7eeaee52-73c6-4064-a842-f1438dab0264",
   "metadata": {},
   "source": [
    "# Modeling Health Data with Logistic Regression\n",
    "\n",
    "**Complete by: Tuesday 4 Nov. at class time**  \n",
    "Data: <https://jrladd.com/CIS241/data/PLACES_PA_OH_2024_12.csv>\n",
    "\n",
    "What does it mean for a *place* to be healthy? What can we learn about the overall health of people in the United States by looking at health by city and locality? These are the questions that the CDC's [PLACES](https://www.cdc.gov/places/about/index.html) project attempts to answer. This project originally began in 2015 as the \"500 Cities Project\": an annual survey of the 500 largest cities in the US. By surveying places every year, the CDC hopes to better understand long-term health among Americans all across the country. \n",
    "\n",
    "Since the start of the COVID-19 pandemic, data analysis focused on health and healthcare has been at the center of public conversation. Good data analysis in this domain is essential for public health in the 21st century. In this week's workshop, you'll examine recent data from the PLACES project to better understand Americans' overall health.\n",
    "\n",
    "We'll use more recent data that surveys people by county instead of city. For use in JupyterHub, I've filtered the [original dataset](https://data.cdc.gov/500-Cities-Places/PLACES-Local-Data-for-Better-Health-County-Data-20/swc5-untb/about_data) to include only Pennsylvania and Ohio counties. We're going to use this data to compare the relative health of these two neighboring states. \n",
    "\n",
    "***For this workshop, you will make a coherent and readable report. As you go through each section, make sure you are explaining, describing and interpreting all code, visualizations, and statistical output. The goal is that a reader with no previous knowledge of the data should be able to understand your findings.***\n",
    "\n",
    "## Instructions\n",
    "\n",
    "Your report should have the following sections:\n",
    "\n",
    "1. **Data Description and Ethical Considerations**: Read in the data and describe its rows and columns. Now that we've discussed ethics as a class, use the frameworks you know to give an overview of important ethical considerations in this dataset. You might find it helpful to review the [project website](https://www.cdc.gov/places/index.html) as well as the [data dictionary](https://data.cdc.gov/500-Cities-Places/PLACES-and-500-Cities-Data-Dictionary/m35w-spkz/about_data) that the CDC provides.\n",
    "2. **Data Wrangling**: You'll notice right away that this dataset is ***not*** in tidy format. To get it ready for analysis, you'll need to [pivot](https://jrladd.com/CIS241/guides/pandas.html#switch-rows-and-columns-with-pivot-and-melt) the data. Specifically, you'll need to use the `.pivot_table()` function to both pivot the data and use an *aggregation function* to get the mean of the rows you're pivoting. (Keep \"StateAbbr\" and \"LocationName\" as the index. Use \"MeasureId\" as columns and \"Data_Value\" as values.) You will also need to take other wrangling steps once you've pivoted the data.\n",
    "3. **Exploratory Data Analysis**: Run some summary statistics and create at least 3 well-described visualizations to better understand your dataset and the potential predictors for your model.\n",
    "4. **Modeling and Assessment**: Run a logistic regression model, with all the necessary steps, to predict the *state* (PA or OH) that a county is in based on its health statistics. Make sure you fully interpret the coefficients and any accuracy scores. Remember, you may need to try some different predictors and/or hyperparameters to get a well-performing model.\n",
    "4) **Validation**: Once you find a model that performs well, run the standard validation steps. Is your model valid? Do you feel confident using it to predict the state?\n",
    "5) **Conclusion**: Write a paragraph explaining your findings and pointing out any takeaways from your modeling. What did you learn about the PLACES data? What are some possible next steps?"
   ]
  },
  {
   "cell_type": "code",
   "execution_count": null,
   "id": "6db8d24f-05bf-4a07-96e1-d82a014a3c0c",
   "metadata": {},
   "outputs": [],
   "source": []
  }
 ],
 "metadata": {
  "kernelspec": {
   "display_name": "Python 3 (ipykernel)",
   "language": "python",
   "name": "python3"
  },
  "language_info": {
   "codemirror_mode": {
    "name": "ipython",
    "version": 3
   },
   "file_extension": ".py",
   "mimetype": "text/x-python",
   "name": "python",
   "nbconvert_exporter": "python",
   "pygments_lexer": "ipython3",
   "version": "3.9.6"
  }
 },
 "nbformat": 4,
 "nbformat_minor": 5
}
