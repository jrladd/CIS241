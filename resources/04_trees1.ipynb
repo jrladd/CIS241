{
 "cells": [
  {
   "cell_type": "markdown",
   "id": "754bc5a5-84b3-4e47-8c2c-e1539fd0ed53",
   "metadata": {},
   "source": [
    "# Modeling Trees with K-Nearest Neighbors\n",
    "\n",
    "**Complete by: Tuesday 26 Oct. at 9am**  \n",
    "Data: (See below.)\n",
    "\n",
    "How often do you think about the trees you see every day? The \"sylvan\" part of Pennsylvania refers to trees after all, and though we're surrounded by trees in urban, suburban, and rural environments it's easy for them to become simply part of the scenery. But trees are an essential part of our environment and have been of steady interest to ecologists.\n",
    "\n",
    "Recently, a group of ecologists created a dataset of over 5 million trees from 63 US cities in order to better understand the biodiversity of urban landscapes. Here's the abstract from their study:\n",
    "\n",
    ">Sustainable cities depend on urban forests. City trees -- a pillar of urban forests -- improve our health, clean the air, store CO2, and cool local temperatures. Comparatively less is known about urban forests as ecosystems, particularly their spatial composition, nativity statuses, biodiversity, and tree health. Here, we assembled and standardized a new dataset of N=5,660,237 trees from 63 of the largest US cities. The data comes from tree inventories conducted at the level of cities and/or neighborhoods. Each data sheet includes detailed information on tree location, species, nativity status (whether a tree species is naturally occurring or introduced), health, size, whether it is in a park or urban area, and more (comprising 28 standardized columns per datasheet). This dataset could be analyzed in combination with citizen-science datasets on bird, insect, or plant biodiversity; social and demographic data; or data on the physical environment. Urban forests offer a rare opportunity to intentionally design biodiverse, heterogenous, rich ecosystems.\n",
    "\n",
    "In this week's lab, we'll use this data to analyze trees with K-nearest neightbors. Can we correctly predict a tree's height? Can we correctly predict whether a tree is naturally occurring or was introduced into its environment?\n",
    "\n",
    "As usual, you'll follow the steps that we worked through in class.\n",
    "\n",
    "## Data Wrangling\n",
    "\n",
    "- Go to the page on Data Dryad for this [urban forests data set](https://doi.org/10.5061/dryad.2jm63xsrf). Instead of having a file posted to our website, I'd like you to find the file for Pittsburgh directly from its source. *Do not simply click on the \"Download Dataset\" button!* Instead, find the Pittsburgh dataset in the dropdown menu and copy the URL for that file (or download it and upload the file to JupyterHub). **Load your data into this notebook and take a look at it. Describe the dataset and note any unusual features.**\n",
    "- This data has some issues with NA values. **Write some code to remove columns that have *only* null values in them.** This will require a little research of the `dropna()` method in the Pandas documentation.\n",
    "- In the `native` column, null values are expressed as the string \"no_info\". **Write some code to replace any instance of \"no_info\" with an NA, then drop all the NAs from this column.** Again, you may need to look at the documentation or Google a solution to this.\n",
    "- This new dataframe contains a mixture of numerical and categorical variables. Note that `ward` is a categorical variable that's expressed as a number, and we'll need to fix that before we proceed. **Using the `astype()` method, write some code to change the `ward` column to the `category` data type. Verify that it worked with the `info()` method.**\n",
    "- **Finally, drop all null values from this new, curated dataframe.** You're ready to get started!\n",
    "\n",
    "## Exploratory Data Analysis\n",
    "\n",
    "Let's learn a little more about this data set before moving on to modeling. **Write some code and/or some markdown to answer the following questions:**\n",
    "\n",
    "- What are the different categories in the `condition` column? What does condition seem to be telling you?\n",
    "- What do you think the `overhead_utility` column is showing?\n",
    "- How do the heights of trees differ across the two `native` categories? Can you visualize this difference and talk about what you see? (Hint: a box plot would probably be best here.)\n",
    "- What will be the predictor variables in your model? Assemble these variables into a list to use on the next step.\n",
    "- You don't need to check for multicollinearity this time! Why not? **Write a few sentences explaining this.**\n",
    "\n",
    "## KNN Regression\n",
    "\n",
    "One possible thing we'd want to know is: how tall will trees grow in Pittsburgh under differing conditions? If we had information on new trees, could we predict how that tree might get?\n",
    "\n",
    "- Use `height_M` as your target variable. **Write down what this variable actually means and what its units are.** You can check the Data Dryad documentation that I linked to above.\n",
    "- Next choose some predictor variables, and give some thought about which ones you should include. Remember, if you use categorical variables that will generate hundreds of columns in your one-hot encoded data, that will slow down your model and likely cause your kernel to overload!\n",
    "- Run a KNN regression using these variables and targets. Make sure you've scaled variables and done all appropriate pre-processing. **Explain your steps and interpret the results fully.**\n",
    "- Use out-of-sample validation to check your model's residuals and calculate some appropriate measures. **How did your model perform?**\n",
    "\n",
    "## KNN Classification\n",
    "\n",
    "Beyond predicting an individual value, we might want to know if the health of people in certain cities varies strongly by state. Given information about a new city, could we correctly predict the state in which it's located?\n",
    "\n",
    "- Use `native` as your target. As above **write down what this variable means**.\n",
    "- Choose some predictor variables. Will you use different ones this time, or the same ones you used for regression?\n",
    "- Run a KNN classification using these variables and targets. Make sure you've scaled variables and done all appropriate pre-processing. **Explain your steps and interpret the results fully.**\n",
    "- Use out-of-sample validation to check your model's confusion matrix, calculate appropriate measures, and make some visualizations. Remember, there are two categories in this target, making this a binary classifier. **How did your model perform?**\n",
    "\n",
    "## Conclusion\n",
    "\n",
    "Write a brief summary of what you learned about Pittsburgh's trees through this analysis. Did you find it easier to predict values or categories with this data? What other approaches might you recommend? Are there additional data on trees that you might want to add to this analyis?"
   ]
  },
  {
   "cell_type": "code",
   "execution_count": null,
   "id": "b3b9b41e-b306-49ef-baee-d17589475068",
   "metadata": {},
   "outputs": [],
   "source": []
  }
 ],
 "metadata": {
  "kernelspec": {
   "display_name": "Python 3 (ipykernel)",
   "language": "python",
   "name": "python3"
  },
  "language_info": {
   "codemirror_mode": {
    "name": "ipython",
    "version": 3
   },
   "file_extension": ".py",
   "mimetype": "text/x-python",
   "name": "python",
   "nbconvert_exporter": "python",
   "pygments_lexer": "ipython3",
   "version": "3.9.6"
  }
 },
 "nbformat": 4,
 "nbformat_minor": 5
}
