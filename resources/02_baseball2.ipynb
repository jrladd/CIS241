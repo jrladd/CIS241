{
 "cells": [
  {
   "cell_type": "markdown",
   "id": "a28f36a6-f72d-4129-9d83-967a01084164",
   "metadata": {},
   "source": [
    "# The Best vs. The Rest\n",
    "## More analysis of baseball teams\n",
    "\n",
    "**Complete by: Tuesday 1 Oct. at 10:55am**\n",
    "\n",
    "## Ethical Considerations\n",
    "\n",
    "It's sometimes easy to imagine sports data as \"neutral,\" but just like any kind of data there are potential ethics concerns. As always we should consider the stakeholders of any data set. Who stands to gain by a data set being handled well? Who could be hurt if that same data is handled poorly? In the case of the baseball data, we should consider that professional sports are a big business, which includes the professional livelihoods of not only players but lots of support staff. Representing a sport accurately can help the people who make their livings in that sport. Likewise, sports fans are deeply committed to their favorite players and teams, and accurate data collection and management can help those fans to better interact with the sport. Misrepresenting sports data could lead to certain players or teams being underfunded, or it could even lead to rule changes that might endanger athletes' health or overall ability to perform. Good sports analysis should always take the stakeholders into account and consider the ethical implications of any analysis.\n",
    "\n",
    "The data we will use comes from [baseball-reference.com](https://baseball-reference.com), a popular baseball statistics website. The site isn't *quite* equipped with the data we want, which is statistics on both batting and pitching at the same time. This is great for some purposes, but bad for ours! We'll need to do some data wrangling to remedy this.\n",
    "\n",
    "**Begin by importing the usual libraries:**"
   ]
  },
  {
   "cell_type": "code",
   "execution_count": null,
   "id": "580fb70d-2a50-401e-91b7-485eb5e51579",
   "metadata": {},
   "outputs": [],
   "source": []
  },
  {
   "cell_type": "markdown",
   "id": "60180619-0fdd-44b8-b835-25e45d899f11",
   "metadata": {},
   "source": [
    "## Data Import and Wrangling\n",
    "\n",
    "For this different set of questions, we'll need different data. Go to the [2023 Team Stats page at Baseball Reference](https://www.baseball-reference.com/leagues/majors/2023.shtml) and download **both** the \"Team Standard Batting\" and \"Team Standard Pitching\" tables into separate CSVs.\n",
    "\n",
    "To work with these datasets, we will need to ***combine*** them by [*merging*](https://pandas.pydata.org/docs/reference/api/pandas.merge.html) the DataFrames together. This step is on your Pandas Cheatsheet under \"Combine Data Sets.\" Read in both CSVs and combine them, using *suffixes* for any columns with the same name:"
   ]
  },
  {
   "cell_type": "code",
   "execution_count": null,
   "id": "a84551c7-5bc9-4cd6-ad04-505338ff6219",
   "metadata": {},
   "outputs": [],
   "source": []
  },
  {
   "cell_type": "markdown",
   "id": "92752c87-388a-4cc9-9d2d-867f1a5a6de2",
   "metadata": {},
   "source": [
    "What does each row in this dataset represent? There are many columns here (more than fifty!), and you don't need to describe each one. But in general, what kinds of information are available in the columns? (Some of the abbreviations here will be unfamiliar to you, so look at the Glossary at Baseball Reference and don't be shy about Googling things.) How is the data set different from the one we worked with last week? **Write your answers below:**"
   ]
  },
  {
   "cell_type": "markdown",
   "id": "6c989a03-5c6e-4a94-a481-72f4e77442e1",
   "metadata": {},
   "source": [
    "[Your answers here.]"
   ]
  },
  {
   "cell_type": "markdown",
   "id": "08933cfd-1b02-4658-8a80-b5a43e57b907",
   "metadata": {},
   "source": [
    "## Finding Correlations, Exploring the Data\n",
    "\n",
    "Now that we've gained some familiarity with the data, we want to see what factors might correlate with the number of runs each team scored in 2023. This is the `R` column from the original `batting` table, but it may have a new name now. This will be our *dependent variable* for all of our subsequent analysis.\n",
    "\n",
    "It's up to you to choose some *independent variables* that might correlate with the number of runs scored. To get a sense of the possibilities, **calculate the correlation matrix for all numerical variables in the dataset**. Alongside that, **visualize the correlation matrix in Altair**. [*In class we added labels to this graph, but there are too many variables here for that. Don't include the text labels this time, and make the graph big enough that it's readable. Focus on creating a clear, readable plot.*] **Accurately interpret both the plot and the statistical output.**\n",
    "\n",
    "Remember that you can create new cells by clicking the `+` button above, and you can switch the cell from Code to Markdown using the dropdown. "
   ]
  },
  {
   "cell_type": "code",
   "execution_count": null,
   "id": "be0f6ed3-4b8f-42b6-a628-459a7eb05164",
   "metadata": {},
   "outputs": [],
   "source": []
  },
  {
   "cell_type": "markdown",
   "id": "a5ba68a9-ce10-49eb-9b82-c6eea51b3b7b",
   "metadata": {},
   "source": [
    "**Next, choose 3 independent variables from the data set, list them, and explain why you chose each one. Use your common sense, the exploratory information above, and knowledge of the data to pick variables you think could plausibly have an effect on the number of runs scored. Remember that independent and dependent variables for correlation *must be numerical*.** \n",
    "\n",
    "**Then, make 3 regression plots (these are scatterplots with a regression transform) to compare each independent variable with runs scored. Interpret each plot, explaining whether or not there appears to be a trend or correlation. (As always, make sure all plots have titles and labels, and you may need to make the regression line a different color to ensure it's visible.) Use tooltips so you can easily see which team is which on your plots!**\n",
    "\n",
    "**Finally, calculate Pearson's correlation coefficient between each of your independent variables and runs scored. (Keep track of these with distinct variable names.) Explain whether the coefficient says the correlation is positive or negative, strong or weak. Is this also reflected in the plots?** Take your time with this, and make sure you've treated all three independent variables thoroughly."
   ]
  },
  {
   "cell_type": "code",
   "execution_count": null,
   "id": "378d4e63-35da-48ce-9e22-1b4dfd3f3d63",
   "metadata": {},
   "outputs": [],
   "source": []
  },
  {
   "cell_type": "markdown",
   "id": "538c3fdb-644f-4518-b70b-e312a61c190d",
   "metadata": {},
   "source": [
    "## Testing Correlations\n",
    "\n",
    "Now you've done some EDA and located some possibilities for correlation. You've tested these against your intuition about the data, but let's do some real hypothesis testing. Are we likely to find the same correlation coefficients that we found in this sample in the full population?\n",
    "\n",
    "**Choose *two* of the independent variables from above. Perhaps they're the ones you think are most plausible, or the ones you're most curious about. Run two separate permutation tests, testing the correlation between each independent variable and number of runs scored.**\n",
    "\n",
    "**For each permutation test you will:**\n",
    "\n",
    "- Write out the null and alternative hypothesis.\n",
    "- Run 10,000 permutations using the function we created in class.\n",
    "- Graph the permutation distribution with a red line showing the observed correlation.\n",
    "- Calculate a p-value.\n",
    "- Interpret the plot and the p-value, explaining whether the correlation is statistically significant and/or practically significant."
   ]
  },
  {
   "cell_type": "code",
   "execution_count": null,
   "id": "68011347-bd39-4cd0-99fd-f9bf10b63340",
   "metadata": {},
   "outputs": [],
   "source": []
  },
  {
   "cell_type": "markdown",
   "id": "8fbcdfdb-8e0b-4cea-b175-aa1df648e50b",
   "metadata": {},
   "source": [
    "## Conclusion\n",
    "\n",
    "**Write a few sentences summarizing your results. Did you find any variables that seem to correlate with a higher number of runs scored? What did you learn about the causes of high scoring teams by doing this analysis? What limitations did you find in this data, and what are your thoughts about what to try next?**"
   ]
  },
  {
   "cell_type": "markdown",
   "id": "6f2f731e-7f1a-438a-8a5d-fe4214e30f0a",
   "metadata": {},
   "source": [
    "[Your conclusion here.]"
   ]
  }
 ],
 "metadata": {
  "kernelspec": {
   "display_name": "Python 3 (ipykernel)",
   "language": "python",
   "name": "python3"
  },
  "language_info": {
   "codemirror_mode": {
    "name": "ipython",
    "version": 3
   },
   "file_extension": ".py",
   "mimetype": "text/x-python",
   "name": "python",
   "nbconvert_exporter": "python",
   "pygments_lexer": "ipython3",
   "version": "3.9.6"
  }
 },
 "nbformat": 4,
 "nbformat_minor": 5
}
