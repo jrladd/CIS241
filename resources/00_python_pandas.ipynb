{
 "cells": [
  {
   "cell_type": "markdown",
   "id": "97f608e2-f393-45bc-b948-ea67a21de33f",
   "metadata": {},
   "source": [
    "# Practicing Python and Pandas\n",
    "\n",
    "**Complete by: Tuesday 9 Sept. at class time**\n",
    "\n",
    "Starting next week, your main homework for this class will be Workshop assignments based on real-world data. Since you're currently working on your Documentation assignment, this week you'll use this notebook to practice some of your new Python and Pandas skills. There isn't any writing in this assignment, but soon you'll use Jupyter notebooks to submit code and writing together.\n",
    "\n",
    "**For all of these instructions, do NOT repeat the exact variable names or data structures from our class slides or the guides. The variables you create and code you write should be new. You may use guides, documentation, and class notes to complete these tasks, but you may not use chatbots or AI code completion!**\n",
    "\n",
    "## Python\n",
    "\n",
    "Complete the following code in each cell below the instructions. *All of your code should have comments that detail what the code is doing.*\n",
    "\n",
    "Remember, Python (like all programming languages) executes your code in order from top to bottom. If an earlier code cell is incomplete or has an error, your later code might not run. Remember you can always hit the \"Restart and run all\" button to see if that solves any issues.\n",
    "\n",
    "1. Create three variables that have three different data types. Give each one a descriptive variable name, and print out the data types of all three of your new variables."
   ]
  },
  {
   "cell_type": "code",
   "execution_count": null,
   "id": "cb1aabe6-8e9f-4dc3-be33-58b258eb26f9",
   "metadata": {},
   "outputs": [],
   "source": []
  },
  {
   "cell_type": "markdown",
   "id": "5f274683-f5d7-4fb3-9994-383e3bf31fd7",
   "metadata": {},
   "source": [
    "2. Loop through all numbers from 1 to 500. If the number is divisible by 2, print the word “Tinker”. If the number is divisible by 7, print the word “Tailor”. If the number is divisible by both 2 and 7, print the words “Tinker Tailor Soldier Spy” (a great movie if you haven’t seen it). If the number isn’t divisible by any of these, just display the number as normal. (Hint: consider the order of your conditions, and remember the `range()` function and `%` operator from class!)\n",
    "\n",
    "This is a classic coding interview question, so it's good to know how to do this!"
   ]
  },
  {
   "cell_type": "code",
   "execution_count": null,
   "id": "f79bc9b3-3905-4c35-843d-009d4061ccc3",
   "metadata": {},
   "outputs": [],
   "source": []
  },
  {
   "cell_type": "markdown",
   "id": "ca4b154a-249c-4a87-808e-1075b4afc127",
   "metadata": {},
   "source": [
    "3. Write a function that takes two lists as arguments. The first list should be all strings and the second list should be all numbers. The function should return a dictionary where the contents of the first list are the keys, and the values are the contents of the second list *plus five*."
   ]
  },
  {
   "cell_type": "code",
   "execution_count": null,
   "id": "c082147c-446d-4ff7-b1fd-53b52a9264a1",
   "metadata": {},
   "outputs": [],
   "source": []
  },
  {
   "cell_type": "markdown",
   "id": "da72cde7-db38-416b-8d6f-abb630415f4f",
   "metadata": {},
   "source": [
    "4. Create two lists, one made up of strings and one made up of numbers. Run your function on the two lists to produce a new dictionary. Then construct a loop that prints *only the keys* of your dictionary."
   ]
  },
  {
   "cell_type": "code",
   "execution_count": null,
   "id": "0176c15b-2752-4f37-bf3c-fc1a7335b386",
   "metadata": {},
   "outputs": [],
   "source": []
  },
  {
   "cell_type": "markdown",
   "id": "0585e546-51e5-45c0-a01c-d6588d1691f3",
   "metadata": {},
   "source": [
    "## Pandas\n",
    "\n",
    "Complete the following code in each cell below the instructions. *All of your code should have comments that detail what the code is doing.*\n",
    "\n",
    "1. Import the Pandas library (don't forget Numpy!) and read in the following two CSV files as separate DataFrames:\n",
    "\n",
    "- <https://jrladd.com/CIS241/data/astronauts.csv>\n",
    "- <https://jrladd.com/CIS241/data/crews.csv>"
   ]
  },
  {
   "cell_type": "code",
   "execution_count": null,
   "id": "2eafea75-b39a-4096-b4ae-9787abccc978",
   "metadata": {},
   "outputs": [],
   "source": []
  },
  {
   "cell_type": "markdown",
   "id": "ce3212a7-bf16-4876-b88a-028cc8dc4d51",
   "metadata": {},
   "source": [
    "2. The astronauts dataframe has information about individual astronauts, while the crews dataframe has information about the different missions they served on. Combine these two dataframes using the appropriate Pandas function for the data that you have. Give the new combined dataframe a new variable name so you can keep track of it, and use this new dataframe for everything going forward. (Remember, you can refer to both our Pandas Guide as well as the official Pandas documentation for more detail on how these functions work.)"
   ]
  },
  {
   "cell_type": "code",
   "execution_count": null,
   "id": "7169ecf8-188d-4585-a15b-8e0ea3fe0f56",
   "metadata": {},
   "outputs": [],
   "source": []
  },
  {
   "cell_type": "markdown",
   "id": "0798ce8d-3a90-4010-97af-10f377dbd732",
   "metadata": {},
   "source": [
    "3. Display just the 4 columns that comprise the names of each of the astronauts."
   ]
  },
  {
   "cell_type": "code",
   "execution_count": null,
   "id": "de774f01-629f-4a4a-8370-f1408b9432dd",
   "metadata": {},
   "outputs": [],
   "source": []
  },
  {
   "cell_type": "markdown",
   "id": "f1d8de5e-fd1b-4e0e-a7d7-4f5457430e7f",
   "metadata": {},
   "source": [
    "4. Display all of the astronauts who went to MIT."
   ]
  },
  {
   "cell_type": "code",
   "execution_count": null,
   "id": "a829c983-44b0-42f8-ba10-8d419ea06ef8",
   "metadata": {},
   "outputs": [],
   "source": []
  },
  {
   "cell_type": "markdown",
   "id": "01d11c46-1148-489d-9a7a-339c76a4831c",
   "metadata": {},
   "source": [
    "5. Remove all of the astronauts who do not have a middle name or initial. Save this dataframe in a new variable so your work is retained."
   ]
  },
  {
   "cell_type": "code",
   "execution_count": null,
   "id": "0d671801-dec7-4376-b672-b8dfc1440220",
   "metadata": {},
   "outputs": [],
   "source": []
  },
  {
   "cell_type": "markdown",
   "id": "a369bfc0-af2a-4561-b8ca-1ff767ed764a",
   "metadata": {},
   "source": [
    "6. How many people of each mission role are in this dataset? Present this data so it doesn't repeat numbers unnecessarily. There's more than one way to do this—you'll get an extra point for showing both methods!"
   ]
  },
  {
   "cell_type": "code",
   "execution_count": null,
   "id": "4705bca6-a772-446d-a757-f042761680bd",
   "metadata": {},
   "outputs": [],
   "source": []
  },
  {
   "cell_type": "markdown",
   "id": "fe878015-a919-434d-9d2b-f9a221a2bab8",
   "metadata": {},
   "source": [
    "7. Change the `isMale` column to a `gender` column: change all the `t` values to `man` and all the `f` values to `woman`, then rename the column."
   ]
  },
  {
   "cell_type": "code",
   "execution_count": null,
   "id": "a5ca1b4c-090c-4059-960d-2536a24353ab",
   "metadata": {},
   "outputs": [],
   "source": []
  },
  {
   "cell_type": "markdown",
   "id": "1d8c5558-e233-49f6-9b3d-c937c68ff93c",
   "metadata": {},
   "source": [
    "8. Create a new `birthplace` column that combines `birthCity` and `birthState` separated by a comma. (Hint: this may require learning a new function from the Pandas documentation!)"
   ]
  },
  {
   "cell_type": "code",
   "execution_count": null,
   "id": "150b6b77-bbc6-4f43-8b61-2e5b92133362",
   "metadata": {},
   "outputs": [],
   "source": []
  },
  {
   "cell_type": "markdown",
   "id": "583875b8-e656-499e-b202-789512d589f8",
   "metadata": {},
   "source": [
    "9. Display the astronauts who participated in more than one mission. (Hint: this may require learning a new function from the Pandas documentation!)"
   ]
  },
  {
   "cell_type": "code",
   "execution_count": null,
   "id": "e78ce4c4-d030-46ac-b6e6-51947472f54c",
   "metadata": {},
   "outputs": [],
   "source": []
  }
 ],
 "metadata": {
  "kernelspec": {
   "display_name": "Python 3 (ipykernel)",
   "language": "python",
   "name": "python3"
  },
  "language_info": {
   "codemirror_mode": {
    "name": "ipython",
    "version": 3
   },
   "file_extension": ".py",
   "mimetype": "text/x-python",
   "name": "python",
   "nbconvert_exporter": "python",
   "pygments_lexer": "ipython3",
   "version": "3.12.10"
  }
 },
 "nbformat": 4,
 "nbformat_minor": 5
}
