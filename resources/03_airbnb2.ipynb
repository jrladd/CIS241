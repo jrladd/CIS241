{
 "cells": [
  {
   "cell_type": "markdown",
   "id": "cf39dc08-3d5d-4d70-83d7-73317b3fd9f9",
   "metadata": {},
   "source": [
    "# Analyzing Airbnb Rentals with Other Kinds of Regression\n",
    "\n",
    "**Complete by: Tuesday 4 Mar. at class time**  \n",
    "Data: <https://jrladd.com/CIS241/data/nola_listings_2021.csv.gz>\n",
    "\n",
    "First, a reminder of the data and where it comes from:\n",
    "\n",
    ">Airbnb was founded in 2008 to allow people to rent apartments, houses, and spaces directly to one another. The company provides an alternative to traditional hotels and rentals. Recently there's been a lot of public discussion about the effects Airbnb rentals have on neighborhoods: as Airbnb gets more popular, more and more homes and apartments that were previously used as private residences are now becoming full-time rentals. The data activists and journalists at [Inside Airbnb](http://insideairbnb.com/) are using public information about rentals to better understand these phenomena.\n",
    "\n",
    "Last week, you used **linear regression** to predict the price of Airbnb rentals. This week, you'll do the same thing with two different kinds of regression models: K-nearest neighbors and the Random Forest. You'll compare the results of your new models to the results you got last week.\n",
    "\n",
    "## Ethical Considerations\n",
    "\n",
    "How much should a temporary rental apartment cost? How many rentals should be available? If a city is a tourist destination, should more of its housing be devoted to temporary hotel-like rental space? Since the launch of Airbnb these questions have only gotten more pressing. Imagine you live in a popular neighborhood in a city that's a tourist destination. At first, you and your neighbors can make extra money by putting your homes and apartments up for rent on Airbnb when you're not using them. But over time, larger companies and individuals who *don't live in your neighborhood* start buying up homes solely to rent them on Airbnb full time. What might this do to your neighborhood?\n",
    "\n",
    "The price and density of Airbnbs has effects not only on individuals who live in those neighborhoods and cities, but also on city officials, the real estate industry, and tourists themselves who may not be able to afford regular hotels and accommodations. How do you balance all of those competing concerns when pricing Airbnbs?\n",
    "\n",
    "## Instructions\n",
    "\n",
    "Your report should have the following sections:\n",
    "\n",
    "1) **Getting started and Data Wrangling**: Follow the same wrangling steps that you completed last time so that your data is ready to analyze.\n",
    "2) **Selecting Predictors/Features**: You don't need to complete the same exploratory data analysis steps that you did last time, but you should use last week's visualizations and statistics to help you choose some predictors. *Remember, different kinds of models need different kinds of predictors/features.* You may need to experiment with different sets of predictors from what you used last time. Your target, `price`, will be the same, but your predictors might be different for every model. Write an explanation of why you chose the predictors that you did.\n",
    "3) **KNN Modeling and Validation**: Run a KNN regression model on the data, handling any missing data and/or categorical variables. Assess it with the standard metrics we used in class. How did your model perform? Make sure you fully interpret the necessary validation steps.\n",
    "4) **Random Forest Modeling and Validation**: Run a Random Forest regression model on the data, handling any missing data and/or categorical variables. Before you fit your RF model, fit a single Decision Tree and make a tree diagram to help you determine what predictors to use. Assess your Random Forest model with the standard metrics we used in class. How did your model perform? Make sure you fully interpret the necessary validation steps.\n",
    "5) **Conclusion**: Write a paragraph explaining your findings and pointing out any takeaways from your modeling. How did the three models (Linear Regression, KNN, and Random Forest) perform on the Airbnb data? Is there one model that you thought performed better than the others, and why do you think that is? What models or steps would you recommend for someone who wants to accurately predict the price of Airbnbs?\n",
    "\n",
    "The [*How To Explain in CIS 241*](https://jrladd.com/CIS241/how-to-explain.html) document has a lot of pointers about how to approach this report!\n",
    "\n",
    "This should be a polished and clearly-formatted report. Remember that in all of these steps **your interpretations are just as important as your code**. You should be taking time to interpret at each stage of your report, and make sure you are interpreting things *completely, accurately, and in terms of the data*."
   ]
  },
  {
   "cell_type": "code",
   "execution_count": null,
   "id": "b1abca06-d6f9-4936-ba9b-404a19c764c5",
   "metadata": {},
   "outputs": [],
   "source": []
  }
 ],
 "metadata": {
  "kernelspec": {
   "display_name": "Python 3 (ipykernel)",
   "language": "python",
   "name": "python3"
  },
  "language_info": {
   "codemirror_mode": {
    "name": "ipython",
    "version": 3
   },
   "file_extension": ".py",
   "mimetype": "text/x-python",
   "name": "python",
   "nbconvert_exporter": "python",
   "pygments_lexer": "ipython3",
   "version": "3.9.6"
  }
 },
 "nbformat": 4,
 "nbformat_minor": 5
}
