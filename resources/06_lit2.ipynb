{
 "cells": [
  {
   "cell_type": "markdown",
   "id": "fc7413dd-6939-4c40-96c1-a6c9cb0ca1d3",
   "metadata": {
    "tags": []
   },
   "source": [
    "# Modeling Shakespeare with PCA\n",
    "\n",
    "**Complete by: Tuesday 25 Nov. at class time**  \n",
    "Data: (See below.)\n",
    "\n",
    "At the start of the semester, we looked at what data analysis could show us about the history of film. Since then we've explored many different subjects where we might expect to find lots of data: sports, ecology, business, health. Now we need to ask: can we use data analysis to understand a subject when we don't have any numbers at all?\n",
    "\n",
    "Shakespeare might seem like the farthest possible thing from data science, but the reality is that people have been analyzing Shakespeare with data just as long as they've been writing books and essays about him. In this workshop, we'll explore all 37 of Shakespeare's plays using data.\n",
    "\n",
    "We can use a combination of PCA and clustering to help us understand a question that readers of Shakespeare's plays have argued over for generations: what genre categories do the plays belong to? In the First Folio (the first complete publication of most of Shakespeare's plays, published in 1623), the publishers attempted to categorize the plays in the table of contents:\n",
    "\n",
    "<a title=\"William Shakespeare\n",
    ", Public domain, via Wikimedia Commons\" href=\"https://commons.wikimedia.org/wiki/File:First_Folio,_Shakespeare_-_0017.jpg\"><img width=\"512\" alt=\"First Folio, Shakespeare - 0017\" src=\"https://upload.wikimedia.org/wikipedia/commons/thumb/8/8a/First_Folio%2C_Shakespeare_-_0017.jpg/512px-First_Folio%2C_Shakespeare_-_0017.jpg\"></a>\n",
    "\n",
    "This is a reasonable first attempt! We've got a nice even set of 3 categories: Comedy, Tragedy, and History. Scholars have since added a fourth category, Romance or Tragicomedy, that includes plays like *The Tempest*, *The Winter's Tale*, *Cymbeline*, and *Pericles*. Last week, you clustered Shakespeare's plays to determine what potential groupings of plays may exist. **In this week's workshop, you'll use Principal Component Analysis to explore your data and get more accurate clusters.** Here are the steps you should take:\n",
    "\n",
    "## Instructions\n",
    "\n",
    "Your report should have the following sections:\n",
    "\n",
    "1. **Data Wrangling**: Using the same files and the same code as last time, import the Shakespeare data and turn it into a DataFrame of TF-IDF scores. Remember to remove the `.ipynb_checkpoints` row.  (n.b. You can add the column at any time, but you **don't** want to include this column when you run PCA. It will disrupt your results! Use your data wrangling skills to only have the genre column when you need it.)\n",
    "2. **PCA for Exploration**: Run PCA on the TF-IDF data to reduce it to just *two* dimensions (features), with all the necessary steps. Create a scatter plot of your two principle components, and color the plot according to genre. You'll need to add the list of genres that I've included below to your results dataframe. Create a second scatter plot of two features (words) from your original data, with colors according to genre. How are these plots similar or different? What are you learning about your data through PCA?\n",
    "3. **PCA for Modeling**: Run PCA on the TF-IDF data to reduce it to *ten* dimensions. Use the resulting dataset to run K-means clustering again, with all the necessary assessment and validation steps. How are these results similar to or different from the clustering you ran last week?\n",
    "4. **Conclusion**: Write a brief paragraph summarizing your results. How effective was PCA as a tool for exploration and for modeling? Were your results this week improved over last weeks? What other things might you try with this dataset?\n",
    "\n",
    "This should be a polished and clearly-formatted report. Remember that in all of these steps **your interpretations are just as important as your code**. You should be taking time to interpret at each stage of your report, and make sure you are interpreting things *completely, accurately, and in terms of the data*."
   ]
  },
  {
   "cell_type": "code",
   "execution_count": null,
   "id": "bbddb06c-cb89-4fd1-b1a3-3b94e21af1e3",
   "metadata": {},
   "outputs": [],
   "source": []
  },
  {
   "cell_type": "code",
   "execution_count": 25,
   "id": "5a259d91-65ce-4539-b059-d2be3947857b",
   "metadata": {},
   "outputs": [],
   "source": [
    "genres = {'much-ado-about-nothing': 'comedy',\n",
    " 'richard-iii': 'history',\n",
    " 'the-winters-tale': 'romance',\n",
    " 'richard-ii': 'history',\n",
    " 'henry-vi-part-3': 'history',\n",
    " 'the-two-noble-kinsmen': 'romance',\n",
    " 'timon-of-athens': 'tragedy',\n",
    " 'the-merchant-of-venice': 'comedy',\n",
    " 'loves-labors-lost': 'comedy',\n",
    " 'troilus-and-cressida': 'tragedy',\n",
    " 'a-midsummer-nights-dream': 'comedy',\n",
    " 'henry-iv-part-1': 'history',\n",
    " 'henry-vi-part-1': 'history',\n",
    " 'henry-v': 'history',\n",
    " 'pericles': 'romance',\n",
    " 'the-merry-wives-of-windsor': 'comedy',\n",
    " 'as-you-like-it': 'comedy',\n",
    " 'king-john': 'history',\n",
    " 'cymbeline': 'romance',\n",
    " 'alls-well-that-ends-well': 'comedy',\n",
    " 'henry-viii': 'history',\n",
    " 'julius-caesar': 'tragedy',\n",
    " 'the-tempest': 'romance',\n",
    " 'macbeth': 'tragedy',\n",
    " 'hamlet': 'tragedy',\n",
    " 'the-taming-of-the-shrew': 'comedy',\n",
    " 'coriolanus': 'tragedy',\n",
    " 'othello': 'tragedy',\n",
    " 'romeo-and-juliet': 'tragedy',\n",
    " 'measure-for-measure': 'comedy',\n",
    " 'antony-and-cleopatra': 'tragedy',\n",
    " 'henry-vi-part-2': 'history',\n",
    " 'titus-andronicus': 'tragedy',\n",
    " 'twelfth-night': 'comedy',\n",
    " 'henry-iv-part-2': 'history',\n",
    " 'king-lear': 'tragedy',\n",
    " 'the-comedy-of-errors': 'comedy',\n",
    " 'the-two-gentlemen-of-verona': 'comedy'}\n",
    "genres = pd.Series(genres)"
   ]
  },
  {
   "cell_type": "code",
   "execution_count": null,
   "id": "e7de78d5-a463-4f4c-825a-1db27d3c1ae6",
   "metadata": {},
   "outputs": [],
   "source": []
  }
 ],
 "metadata": {
  "kernelspec": {
   "display_name": "Python 3 (ipykernel)",
   "language": "python",
   "name": "python3"
  },
  "language_info": {
   "codemirror_mode": {
    "name": "ipython",
    "version": 3
   },
   "file_extension": ".py",
   "mimetype": "text/x-python",
   "name": "python",
   "nbconvert_exporter": "python",
   "pygments_lexer": "ipython3",
   "version": "3.9.6"
  }
 },
 "nbformat": 4,
 "nbformat_minor": 5
}
